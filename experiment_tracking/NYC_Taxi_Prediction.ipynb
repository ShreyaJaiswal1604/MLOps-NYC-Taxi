{
 "cells": [
  {
   "cell_type": "code",
   "execution_count": 13,
   "id": "acc1f814-9999-41fe-957e-359fbb42ae54",
   "metadata": {
    "tags": []
   },
   "outputs": [],
   "source": [
    "import pandas as pd\n",
    "import pickle\n",
    "import seaborn as sns\n",
    "import matplotlib.pyplot as plt\n",
    "\n",
    "from sklearn.feature_extraction import DictVectorizer\n",
    "from sklearn.linear_model import LinearRegression\n",
    "from sklearn.linear_model import Lasso\n",
    "\n",
    "from sklearn.linear_model import Ridge\n",
    "\n",
    "from sklearn.metrics import mean_squared_error"
   ]
  },
  {
   "cell_type": "code",
   "execution_count": 14,
   "id": "27be47c9",
   "metadata": {},
   "outputs": [],
   "source": [
    "#define the training filepath\n",
    "filename_aug_train = '/Users/shreyajaiswal/Library/CloudStorage/OneDrive-NortheasternUniversity/Projects/MLOps-NYC-Taxi/experiment_tracking/dataset/yellow_tripdata_2023-08.parquet'\n",
    "filename_sept_validate = '/Users/shreyajaiswal/Library/CloudStorage/OneDrive-NortheasternUniversity/Projects/MLOps-NYC-Taxi/experiment_tracking/dataset/yellow_tripdata_2023-09.parquet'\n",
    "model_output_filepath = '/Users/shreyajaiswal/Library/CloudStorage/OneDrive-NortheasternUniversity/Projects/MLOps-NYC-Taxi/experiment_tracking/model'"
   ]
  },
  {
   "cell_type": "code",
   "execution_count": 26,
   "id": "da01f2da",
   "metadata": {},
   "outputs": [],
   "source": [
    "#define the training filepath\n",
    "filename_aug_train = './dataset/yellow_tripdata_2023-08.parquet'\n",
    "filename_sept_validate = './dataset/yellow_tripdata_2023-09.parquet'\n",
    "model_output_filepath = './model'"
   ]
  },
  {
   "cell_type": "code",
   "execution_count": 27,
   "id": "3458bf91",
   "metadata": {},
   "outputs": [
    {
     "name": "stderr",
     "output_type": "stream",
     "text": [
      "2023/12/04 21:08:18 INFO mlflow.tracking.fluent: Experiment with name 'POC_NYC-Yellow-Taxi-Experiment' does not exist. Creating a new experiment.\n"
     ]
    },
    {
     "data": {
      "text/plain": [
       "<Experiment: artifact_location='mlflow-artifacts:/3', creation_time=1701742098822, experiment_id='3', last_update_time=1701742098822, lifecycle_stage='active', name='POC_NYC-Yellow-Taxi-Experiment', tags={}>"
      ]
     },
     "execution_count": 27,
     "metadata": {},
     "output_type": "execute_result"
    }
   ],
   "source": [
    "import mlflow\n",
    "\n",
    "# Set the tracking URI to use SQLite as the backend store\n",
    "mlflow.set_tracking_uri(\"http://127.0.0.1:5000\")\n",
    "\n",
    "# Set the experiment name mlflow\n",
    "experiment_name = \"POC_NYC-Yellow-Taxi-Experiment\"\n",
    "mlflow.set_experiment(experiment_name)"
   ]
  },
  {
   "cell_type": "markdown",
   "id": "2d2387cc-42ca-4a34-9248-b6f4f275bd87",
   "metadata": {},
   "source": [
    "filename_sept_train = './dataset/yellow_tripdata_2023-08.parquet'\n",
    "filename_aug_validate = './dataset/yellow_tripdata_2023-09.parquet'\n",
    "model_output_filepath = './model/linear_regression'"
   ]
  },
  {
   "cell_type": "code",
   "execution_count": 28,
   "id": "0d4ac396-f2cf-44c7-9320-3fcc8773e21f",
   "metadata": {
    "tags": []
   },
   "outputs": [],
   "source": [
    "def read_dataframe(filename):\n",
    "    if filename.endswith('.csv'):\n",
    "        df = pd.read_csv(filename)\n",
    "        \n",
    "        df.tpep_dropoff_datetime = pd.to_datetime(df.tpep_dropoff_datetime)\n",
    "        df.tpep_pickup_datetime = pd.to_datetime(df.tpep_pickup_datetime)\n",
    "        \n",
    "    elif filename.endswith('.parquet'):\n",
    "        df = pd.read_parquet(filename)\n",
    "        \n",
    "    df['duration'] = df.tpep_dropoff_datetime - df.tpep_pickup_datetime\n",
    "    df.duration = df.duration.apply(lambda td: td.total_seconds() / 60)\n",
    "    \n",
    "    df = df[(df.duration >= 1) & (df.duration <= 60)]\n",
    "    \n",
    "    categorical = ['PULocationID', 'DOLocationID']\n",
    "    df[categorical] = df[categorical].astype(str)\n",
    "    \n",
    "    return df\n",
    "        "
   ]
  },
  {
   "cell_type": "code",
   "execution_count": 29,
   "id": "17684e59-28ba-4aaa-8d8e-7ab65f01437a",
   "metadata": {},
   "outputs": [],
   "source": [
    "df_train = read_dataframe(filename_aug_train)\n",
    "df_validate = read_dataframe(filename_sept_validate)"
   ]
  },
  {
   "cell_type": "code",
   "execution_count": 30,
   "id": "50f91c67-ad80-43f9-9097-597556fcbc7b",
   "metadata": {},
   "outputs": [
    {
     "data": {
      "text/plain": [
       "(2749262, 2742971)"
      ]
     },
     "execution_count": 30,
     "metadata": {},
     "output_type": "execute_result"
    }
   ],
   "source": [
    "len(df_train), len(df_validate)"
   ]
  },
  {
   "cell_type": "code",
   "execution_count": 31,
   "id": "b9bc21b0-fe89-4d89-9a99-0747e3f9ffb5",
   "metadata": {},
   "outputs": [],
   "source": [
    "df_train['PU_DO'] = df_train['PULocationID'] + '_' + df_train['DOLocationID']\n",
    "df_validate['PU_DO'] = df_validate['PULocationID'] + '_' + df_validate['DOLocationID']"
   ]
  },
  {
   "cell_type": "code",
   "execution_count": 32,
   "id": "ce29565b-2359-4329-9ec5-aae178126667",
   "metadata": {},
   "outputs": [],
   "source": [
    "categorical = ['PU_DO']\n",
    "numerical = ['trip_distance']\n",
    "\n",
    "dv = DictVectorizer()\n",
    "\n",
    "train_dicts = df_train[categorical + numerical].to_dict(orient='records')\n",
    "X_train = dv.fit_transform(train_dicts)\n",
    "\n",
    "val_dicts = df_validate[categorical + numerical].to_dict(orient='records')\n",
    "X_val = dv.transform(val_dicts)"
   ]
  },
  {
   "cell_type": "code",
   "execution_count": 33,
   "id": "8494c065-5fbc-495c-a4d4-31a8f70b4b34",
   "metadata": {},
   "outputs": [],
   "source": [
    "target = 'duration'\n",
    "y_train = df_train[target].values\n",
    "y_val = df_validate[target].values"
   ]
  },
  {
   "cell_type": "code",
   "execution_count": 22,
   "id": "d85667f1-76c4-4482-963b-094666f6b05f",
   "metadata": {},
   "outputs": [],
   "source": [
    "#Fitting the linear regression model to the training data \n",
    "def model_linear_regression(X_train,y_train):\n",
    "    lr = LinearRegression()\n",
    "    lr.fit(X_train, y_train)\n",
    "\n",
    "    #using the trained model to predict outcome of the validation data\n",
    "    y_pred = lr.predict(X_val)\n",
    "\n",
    "    print(\"The mean square error is --> \", mean_squared_error(y_val, y_pred, squared=False))\n",
    "    return y_pred, mean_squared_error(y_val, y_pred, squared=False)"
   ]
  },
  {
   "cell_type": "code",
   "execution_count": 12,
   "id": "5672aa1b",
   "metadata": {},
   "outputs": [
    {
     "name": "stdout",
     "output_type": "stream",
     "text": [
      "The mean square error is -->  7.156963179253967\n"
     ]
    },
    {
     "name": "stderr",
     "output_type": "stream",
     "text": [
      "/var/folders/c9/wytgs3g14698n1_9r5l9959c0000gn/T/ipykernel_37221/2108171495.py:2: UserWarning: \n",
      "\n",
      "`distplot` is a deprecated function and will be removed in seaborn v0.14.0.\n",
      "\n",
      "Please adapt your code to use either `displot` (a figure-level function with\n",
      "similar flexibility) or `histplot` (an axes-level function for histograms).\n",
      "\n",
      "For a guide to updating your code to use the new functions, please see\n",
      "https://gist.github.com/mwaskom/de44147ed2974457ad6372750bbe5751\n",
      "\n",
      "  sns.distplot(y_pred_lr, label='prediction_linear_regression')\n",
      "/var/folders/c9/wytgs3g14698n1_9r5l9959c0000gn/T/ipykernel_37221/2108171495.py:3: UserWarning: \n",
      "\n",
      "`distplot` is a deprecated function and will be removed in seaborn v0.14.0.\n",
      "\n",
      "Please adapt your code to use either `displot` (a figure-level function with\n",
      "similar flexibility) or `histplot` (an axes-level function for histograms).\n",
      "\n",
      "For a guide to updating your code to use the new functions, please see\n",
      "https://gist.github.com/mwaskom/de44147ed2974457ad6372750bbe5751\n",
      "\n",
      "  sns.distplot(y_train, label='actual')\n"
     ]
    },
    {
     "data": {
      "text/plain": [
       "<matplotlib.legend.Legend at 0x7fd749affe50>"
      ]
     },
     "execution_count": 12,
     "metadata": {},
     "output_type": "execute_result"
    },
    {
     "data": {
      "image/png": "[encoded data removed]",
      "text/plain": [
       "<Figure size 640x480 with 1 Axes>"
      ]
     },
     "metadata": {},
     "output_type": "display_data"
    }
   ],
   "source": [
    "y_pred_lr, rmse =model_linear_regression(X_train,y_train)\n",
    "sns.distplot(y_pred_lr, label='prediction_linear_regression')\n",
    "sns.distplot(y_train, label='actual')\n",
    "\n",
    "plt.legend()"
   ]
  },
  {
   "cell_type": "code",
   "execution_count": 23,
   "id": "5d042525",
   "metadata": {},
   "outputs": [
    {
     "name": "stdout",
     "output_type": "stream",
     "text": [
      "The mean square error is -->  7.156963179253967\n"
     ]
    }
   ],
   "source": [
    "with mlflow.start_run():\n",
    "\n",
    "    mlflow.set_tag(\"developers\",\"mlops-nyc-yellow-taxi\")\n",
    "    mlflow.log_param(\"train-data_path\",f\"{filename_aug_train}\")\n",
    "    mlflow.log_param(\"validate-data_path\",f\"{filename_sept_validate}\")\n",
    "\n",
    "    alpha = 0.01\n",
    "\n",
    "    mlflow.log_param(\"alpha\",f\"{alpha}\")\n",
    "    y_pred_lr, rmse =model_linear_regression(X_train,y_train)\n",
    "\n",
    "    mlflow.log_metric(\"rmse\", rmse)\n",
    "    \n"
   ]
  },
  {
   "cell_type": "code",
   "execution_count": null,
   "id": "8dd1abfc-c195-4faf-accf-19a00d6dc6e3",
   "metadata": {},
   "outputs": [
    {
     "data": {
      "text/plain": [
       "10.894920188834673"
      ]
     },
     "execution_count": 12,
     "metadata": {},
     "output_type": "execute_result"
    }
   ],
   "source": [
    "ls = Lasso(0.01)\n",
    "ls.fit(X_train, y_train)\n",
    "\n",
    "y_pred_ls= ls.predict(X_val)\n",
    "\n",
    "mean_squared_error(y_val, y_pred, squared=False)"
   ]
  },
  {
   "cell_type": "code",
   "execution_count": null,
   "id": "1cc39c65",
   "metadata": {},
   "outputs": [],
   "source": [
    "sns.distplot(y_pred_ls, label='prediction_lasso')\n",
    "sns.distplot(y_train, label='actual')\n",
    "\n",
    "plt.legend()"
   ]
  },
  {
   "cell_type": "code",
   "execution_count": null,
   "id": "3c9e5400-1379-4fb2-9b38-1ff757d04909",
   "metadata": {},
   "outputs": [
    {
     "data": {
      "text/plain": [
       "10.894920188834673"
      ]
     },
     "execution_count": 13,
     "metadata": {},
     "output_type": "execute_result"
    }
   ],
   "source": [
    "rd = Ridge(0.01)\n",
    "rd.fit(X_train, y_train)\n",
    "\n",
    "y_pred_rd = ls.predict(X_val)\n",
    "\n",
    "mean_squared_error(y_val, y_pred, squared=False)"
   ]
  },
  {
   "cell_type": "code",
   "execution_count": null,
   "id": "882933cc",
   "metadata": {},
   "outputs": [],
   "source": [
    "sns.distplot(y_pred_rd, label='prediction_ridge')\n",
    "sns.distplot(y_train, label='actual')\n",
    "\n",
    "plt.legend()"
   ]
  },
  {
   "cell_type": "code",
   "execution_count": null,
   "id": "8c8867dc-5778-49e7-90ed-cba2ad5ea673",
   "metadata": {},
   "outputs": [
    {
     "name": "stdout",
     "output_type": "stream",
     "text": [
      "sucessfully recorded current model\n"
     ]
    }
   ],
   "source": [
    "with open(f'{model_output_filepath}/lr-v-1.bin', 'wb') as f_out:\n",
    "    pickle.dump((dv, lr), f_out)\n",
    "    print(\"sucessfully recorded current model\")"
   ]
  },
  {
   "cell_type": "code",
   "execution_count": null,
   "id": "1bc505ea-a19b-4be8-9e0d-f1e4358c9bab",
   "metadata": {},
   "outputs": [],
   "source": [
    "with mlflow.start_run():\n",
    "\n",
    "    mlflow.set_tag(\"developers\",\"shreya\",\"nyc-yellow-taxi\",\"mlops\")\n",
    "    mlflow.log_param(\"train-data_path\",f\"{filename_aug_train}\")\n",
    "    mlflow.log_param(\"validate-data_path\",f\"{filename_sept_validate}\")\n",
    "\n",
    "    alpha = 0.01\n",
    "\n",
    "    mlflow.log_param(\"alpha\",f\"{alpha}\")\n",
    "    \n"
   ]
  },
  {
   "cell_type": "code",
   "execution_count": 35,
   "id": "bb3ef57d",
   "metadata": {},
   "outputs": [],
   "source": [
    "import xgboost as xgb"
   ]
  },
  {
   "cell_type": "code",
   "execution_count": 36,
   "id": "09f0e736",
   "metadata": {},
   "outputs": [],
   "source": [
    "from hyperopt import fmin, tpe, hp, STATUS_OK, Trials\n",
    "from hyperopt.pyll import scope"
   ]
  },
  {
   "cell_type": "code",
   "execution_count": 37,
   "id": "738439a3",
   "metadata": {},
   "outputs": [],
   "source": [
    "train = xgb.DMatrix(X_train, label=y_train)\n",
    "valid = xgb.DMatrix(X_val, label=y_val)"
   ]
  },
  {
   "cell_type": "code",
   "execution_count": 46,
   "id": "2f6d1712",
   "metadata": {},
   "outputs": [],
   "source": [
    "\n",
    "def objective(params):\n",
    "    with mlflow.start_run():\n",
    "        mlflow.set_tag(\"model\", \"xgboost\")\n",
    "        mlflow.log_params(params)\n",
    "        booster = xgb.train(\n",
    "            params=params,\n",
    "            dtrain=train,\n",
    "            num_boost_round=1,\n",
    "            evals=[(valid, 'validation')],\n",
    "            early_stopping_rounds=5\n",
    "        )\n",
    "        y_pred = booster.predict(valid)\n",
    "        rmse = mean_squared_error(y_val, y_pred, squared=False)\n",
    "        mlflow.log_metric(\"rmse\", rmse)\n",
    "\n",
    "    return {'loss': rmse, 'status': STATUS_OK}"
   ]
  },
  {
   "cell_type": "code",
   "execution_count": 47,
   "id": "e6b7b7c9",
   "metadata": {},
   "outputs": [
    {
     "name": "stdout",
     "output_type": "stream",
     "text": [
      "[21:24:34] WARNING: /Users/runner/miniforge3/conda-bld/xgboost-split_1700181161286/work/src/objective/regression_obj.cu:213: reg:linear is now deprecated in favor of reg:squarederror.\n",
      "[0]\tvalidation-rmse:18.26539                         \n",
      "[21:24:38] WARNING: /Users/runner/miniforge3/conda-bld/xgboost-split_1700181161286/work/src/objective/regression_obj.cu:213: reg:linear is now deprecated in favor of reg:squarederror.\n",
      "[0]\tvalidation-rmse:18.83631                                                  \n",
      "100%|██████████| 2/2 [00:10<00:00,  5.28s/trial, best loss: 18.26538967228935]\n"
     ]
    }
   ],
   "source": [
    "search_space = {\n",
    "    'max_depth': scope.int(hp.quniform('max_depth', 4, 100, 1)),\n",
    "    'learning_rate': hp.loguniform('learning_rate', -3, 0),\n",
    "    'reg_alpha': hp.loguniform('reg_alpha', -5, -1),\n",
    "    'reg_lambda': hp.loguniform('reg_lambda', -6, -1),\n",
    "    'min_child_weight': hp.loguniform('min_child_weight', -1, 3),\n",
    "    'objective': 'reg:linear',\n",
    "    'seed': 42\n",
    "}\n",
    "\n",
    "best_result = fmin(\n",
    "    fn=objective,\n",
    "    space=search_space,\n",
    "    algo=tpe.suggest,\n",
    "    max_evals=2,\n",
    "    trials=Trials()\n",
    ")"
   ]
  },
  {
   "cell_type": "code",
   "execution_count": 45,
   "id": "87ccbbb8",
   "metadata": {},
   "outputs": [
    {
     "name": "stdout",
     "output_type": "stream",
     "text": [
      "[0]\tvalidation-rmse:15.17697\n",
      "[1]\tvalidation-rmse:12.10702\n",
      "[2]\tvalidation-rmse:10.16283\n",
      "[3]\tvalidation-rmse:8.97004\n",
      "[4]\tvalidation-rmse:8.25446\n",
      "[5]\tvalidation-rmse:7.82822\n",
      "[6]\tvalidation-rmse:7.57144\n",
      "[7]\tvalidation-rmse:7.41582\n",
      "[8]\tvalidation-rmse:7.31678\n",
      "[9]\tvalidation-rmse:7.25463\n",
      "[10]\tvalidation-rmse:7.21052\n",
      "[11]\tvalidation-rmse:7.18120\n",
      "[12]\tvalidation-rmse:7.16340\n",
      "[13]\tvalidation-rmse:7.14726\n",
      "[14]\tvalidation-rmse:7.13738\n",
      "[15]\tvalidation-rmse:7.13038\n",
      "[16]\tvalidation-rmse:7.12439\n",
      "[17]\tvalidation-rmse:7.11979\n"
     ]
    },
    {
     "ename": "KeyboardInterrupt",
     "evalue": "",
     "output_type": "error",
     "traceback": [
      "\u001b[0;31m---------------------------------------------------------------------------\u001b[0m",
      "\u001b[0;31mKeyboardInterrupt\u001b[0m                         Traceback (most recent call last)",
      "\u001b[1;32m/Users/shreyajaiswal/Library/CloudStorage/OneDrive-NortheasternUniversity/Projects/MLOps-NYC-Taxi/experiment_tracking/NYC_Taxi_Prediction.ipynb Cell 26\u001b[0m line \u001b[0;36m4\n\u001b[1;32m      <a href='vscode-notebook-cell:/Users/shreyajaiswal/Library/CloudStorage/OneDrive-NortheasternUniversity/Projects/MLOps-NYC-Taxi/experiment_tracking/NYC_Taxi_Prediction.ipynb#X33sZmlsZQ%3D%3D?line=0'>1</a>\u001b[0m params \u001b[39m=\u001b[39m {\n\u001b[1;32m      <a href='vscode-notebook-cell:/Users/shreyajaiswal/Library/CloudStorage/OneDrive-NortheasternUniversity/Projects/MLOps-NYC-Taxi/experiment_tracking/NYC_Taxi_Prediction.ipynb#X33sZmlsZQ%3D%3D?line=1'>2</a>\u001b[0m     \n\u001b[1;32m      <a href='vscode-notebook-cell:/Users/shreyajaiswal/Library/CloudStorage/OneDrive-NortheasternUniversity/Projects/MLOps-NYC-Taxi/experiment_tracking/NYC_Taxi_Prediction.ipynb#X33sZmlsZQ%3D%3D?line=2'>3</a>\u001b[0m }\n\u001b[0;32m----> <a href='vscode-notebook-cell:/Users/shreyajaiswal/Library/CloudStorage/OneDrive-NortheasternUniversity/Projects/MLOps-NYC-Taxi/experiment_tracking/NYC_Taxi_Prediction.ipynb#X33sZmlsZQ%3D%3D?line=3'>4</a>\u001b[0m booster \u001b[39m=\u001b[39m xgb\u001b[39m.\u001b[39;49mtrain(\n\u001b[1;32m      <a href='vscode-notebook-cell:/Users/shreyajaiswal/Library/CloudStorage/OneDrive-NortheasternUniversity/Projects/MLOps-NYC-Taxi/experiment_tracking/NYC_Taxi_Prediction.ipynb#X33sZmlsZQ%3D%3D?line=4'>5</a>\u001b[0m     params\u001b[39m=\u001b[39;49mparams,\n\u001b[1;32m      <a href='vscode-notebook-cell:/Users/shreyajaiswal/Library/CloudStorage/OneDrive-NortheasternUniversity/Projects/MLOps-NYC-Taxi/experiment_tracking/NYC_Taxi_Prediction.ipynb#X33sZmlsZQ%3D%3D?line=5'>6</a>\u001b[0m     dtrain\u001b[39m=\u001b[39;49mtrain,\n\u001b[1;32m      <a href='vscode-notebook-cell:/Users/shreyajaiswal/Library/CloudStorage/OneDrive-NortheasternUniversity/Projects/MLOps-NYC-Taxi/experiment_tracking/NYC_Taxi_Prediction.ipynb#X33sZmlsZQ%3D%3D?line=6'>7</a>\u001b[0m     num_boost_round\u001b[39m=\u001b[39;49m\u001b[39m1000\u001b[39;49m,\n\u001b[1;32m      <a href='vscode-notebook-cell:/Users/shreyajaiswal/Library/CloudStorage/OneDrive-NortheasternUniversity/Projects/MLOps-NYC-Taxi/experiment_tracking/NYC_Taxi_Prediction.ipynb#X33sZmlsZQ%3D%3D?line=7'>8</a>\u001b[0m     evals\u001b[39m=\u001b[39;49m[(valid, \u001b[39m'\u001b[39;49m\u001b[39mvalidation\u001b[39;49m\u001b[39m'\u001b[39;49m)],\n\u001b[1;32m      <a href='vscode-notebook-cell:/Users/shreyajaiswal/Library/CloudStorage/OneDrive-NortheasternUniversity/Projects/MLOps-NYC-Taxi/experiment_tracking/NYC_Taxi_Prediction.ipynb#X33sZmlsZQ%3D%3D?line=8'>9</a>\u001b[0m     early_stopping_rounds\u001b[39m=\u001b[39;49m\u001b[39m50\u001b[39;49m\n\u001b[1;32m     <a href='vscode-notebook-cell:/Users/shreyajaiswal/Library/CloudStorage/OneDrive-NortheasternUniversity/Projects/MLOps-NYC-Taxi/experiment_tracking/NYC_Taxi_Prediction.ipynb#X33sZmlsZQ%3D%3D?line=9'>10</a>\u001b[0m )\n",
      "File \u001b[0;32m~/opt/anaconda3/envs/myenv/lib/python3.8/site-packages/xgboost/core.py:620\u001b[0m, in \u001b[0;36mrequire_keyword_args.<locals>.throw_if.<locals>.inner_f\u001b[0;34m(*args, **kwargs)\u001b[0m\n\u001b[1;32m    618\u001b[0m \u001b[39mfor\u001b[39;00m k, arg \u001b[39min\u001b[39;00m \u001b[39mzip\u001b[39m(sig\u001b[39m.\u001b[39mparameters, args):\n\u001b[1;32m    619\u001b[0m     kwargs[k] \u001b[39m=\u001b[39m arg\n\u001b[0;32m--> 620\u001b[0m \u001b[39mreturn\u001b[39;00m func(\u001b[39m*\u001b[39;49m\u001b[39m*\u001b[39;49mkwargs)\n",
      "File \u001b[0;32m~/opt/anaconda3/envs/myenv/lib/python3.8/site-packages/xgboost/training.py:186\u001b[0m, in \u001b[0;36mtrain\u001b[0;34m(params, dtrain, num_boost_round, evals, obj, feval, maximize, early_stopping_rounds, evals_result, verbose_eval, xgb_model, callbacks, custom_metric)\u001b[0m\n\u001b[1;32m    184\u001b[0m         \u001b[39mbreak\u001b[39;00m\n\u001b[1;32m    185\u001b[0m     bst\u001b[39m.\u001b[39mupdate(dtrain, i, obj)\n\u001b[0;32m--> 186\u001b[0m     \u001b[39mif\u001b[39;00m cb_container\u001b[39m.\u001b[39;49mafter_iteration(bst, i, dtrain, evals):\n\u001b[1;32m    187\u001b[0m         \u001b[39mbreak\u001b[39;00m\n\u001b[1;32m    189\u001b[0m bst \u001b[39m=\u001b[39m cb_container\u001b[39m.\u001b[39mafter_training(bst)\n",
      "File \u001b[0;32m~/opt/anaconda3/envs/myenv/lib/python3.8/site-packages/xgboost/callback.py:240\u001b[0m, in \u001b[0;36mCallbackContainer.after_iteration\u001b[0;34m(self, model, epoch, dtrain, evals)\u001b[0m\n\u001b[1;32m    238\u001b[0m \u001b[39mfor\u001b[39;00m _, name \u001b[39min\u001b[39;00m evals:\n\u001b[1;32m    239\u001b[0m     \u001b[39massert\u001b[39;00m name\u001b[39m.\u001b[39mfind(\u001b[39m'\u001b[39m\u001b[39m-\u001b[39m\u001b[39m'\u001b[39m) \u001b[39m==\u001b[39m \u001b[39m-\u001b[39m\u001b[39m1\u001b[39m, \u001b[39m'\u001b[39m\u001b[39mDataset name should not contain `-`\u001b[39m\u001b[39m'\u001b[39m\n\u001b[0;32m--> 240\u001b[0m score: \u001b[39mstr\u001b[39m \u001b[39m=\u001b[39m model\u001b[39m.\u001b[39;49meval_set(evals, epoch, \u001b[39mself\u001b[39;49m\u001b[39m.\u001b[39;49mmetric, \u001b[39mself\u001b[39;49m\u001b[39m.\u001b[39;49m_output_margin)\n\u001b[1;32m    241\u001b[0m splited \u001b[39m=\u001b[39m score\u001b[39m.\u001b[39msplit()[\u001b[39m1\u001b[39m:]  \u001b[39m# into datasets\u001b[39;00m\n\u001b[1;32m    242\u001b[0m \u001b[39m# split up `test-error:0.1234`\u001b[39;00m\n",
      "File \u001b[0;32m~/opt/anaconda3/envs/myenv/lib/python3.8/site-packages/xgboost/core.py:1989\u001b[0m, in \u001b[0;36mBooster.eval_set\u001b[0;34m(self, evals, iteration, feval, output_margin)\u001b[0m\n\u001b[1;32m   1986\u001b[0m evnames \u001b[39m=\u001b[39m c_array(ctypes\u001b[39m.\u001b[39mc_char_p, [c_str(d[\u001b[39m1\u001b[39m]) \u001b[39mfor\u001b[39;00m d \u001b[39min\u001b[39;00m evals])\n\u001b[1;32m   1987\u001b[0m msg \u001b[39m=\u001b[39m ctypes\u001b[39m.\u001b[39mc_char_p()\n\u001b[1;32m   1988\u001b[0m _check_call(\n\u001b[0;32m-> 1989\u001b[0m     _LIB\u001b[39m.\u001b[39;49mXGBoosterEvalOneIter(\n\u001b[1;32m   1990\u001b[0m         \u001b[39mself\u001b[39;49m\u001b[39m.\u001b[39;49mhandle,\n\u001b[1;32m   1991\u001b[0m         ctypes\u001b[39m.\u001b[39;49mc_int(iteration),\n\u001b[1;32m   1992\u001b[0m         dmats,\n\u001b[1;32m   1993\u001b[0m         evnames,\n\u001b[1;32m   1994\u001b[0m         c_bst_ulong(\u001b[39mlen\u001b[39;49m(evals)),\n\u001b[1;32m   1995\u001b[0m         ctypes\u001b[39m.\u001b[39;49mbyref(msg),\n\u001b[1;32m   1996\u001b[0m     )\n\u001b[1;32m   1997\u001b[0m )\n\u001b[1;32m   1998\u001b[0m \u001b[39massert\u001b[39;00m msg\u001b[39m.\u001b[39mvalue \u001b[39mis\u001b[39;00m \u001b[39mnot\u001b[39;00m \u001b[39mNone\u001b[39;00m\n\u001b[1;32m   1999\u001b[0m res \u001b[39m=\u001b[39m msg\u001b[39m.\u001b[39mvalue\u001b[39m.\u001b[39mdecode()  \u001b[39m# pylint: disable=no-member\u001b[39;00m\n",
      "\u001b[0;31mKeyboardInterrupt\u001b[0m: "
     ]
    }
   ],
   "source": [
    "params = {\n",
    "    \n",
    "}\n",
    "booster = xgb.train(\n",
    "    params=params,\n",
    "    dtrain=train,\n",
    "    num_boost_round=1000,\n",
    "    evals=[(valid, 'validation')],\n",
    "    early_stopping_rounds=50\n",
    ")"
   ]
  },
  {
   "cell_type": "code",
   "execution_count": null,
   "id": "affe7f18",
   "metadata": {},
   "outputs": [],
   "source": [
    "params = {\n",
    "    \n",
    "}\n",
    "\n",
    "mlflow.xgboost.autolog()\n",
    "\n",
    "with mlflow.start_run():\n",
    "    mlflow.set_tag()\n",
    "    mlflow.log_param()\n",
    "\n",
    "    booster = xgb.train(\n",
    "        booster = xgb.train(\n",
    "        params=params,\n",
    "        dtrain=train,\n",
    "        num_boost_round=1000,\n",
    "        evals=[(valid, 'validation')],\n",
    "        early_stopping_rounds=50\n",
    ")\n",
    "    )"
   ]
  }
 ],
 "metadata": {
  "kernelspec": {
   "display_name": "Python 3 (ipykernel)",
   "language": "python",
   "name": "python3"
  },
  "language_info": {
   "codemirror_mode": {
    "name": "ipython",
    "version": 3
   },
   "file_extension": ".py",
   "mimetype": "text/x-python",
   "name": "python",
   "nbconvert_exporter": "python",
   "pygments_lexer": "ipython3",
   "version": "3.8.18"
  }
 },
 "nbformat": 4,
 "nbformat_minor": 5
}
