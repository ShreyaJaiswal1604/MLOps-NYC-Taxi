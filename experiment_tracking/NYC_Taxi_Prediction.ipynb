{
 "cells": [
  {
   "cell_type": "markdown",
   "id": "9a42474a",
   "metadata": {},
   "source": [
    "---\n",
    "### Import Python Libraries\n",
    "---"
   ]
  },
  {
   "cell_type": "code",
   "execution_count": 1,
   "id": "acc1f814-9999-41fe-957e-359fbb42ae54",
   "metadata": {
    "tags": []
   },
   "outputs": [],
   "source": [
    "import pandas as pd\n",
    "import pickle\n",
    "import seaborn as sns\n",
    "import matplotlib.pyplot as plt\n",
    "\n",
    "from sklearn.feature_extraction import DictVectorizer\n",
    "from sklearn.linear_model import LinearRegression\n",
    "from sklearn.linear_model import Lasso\n",
    "from sklearn.linear_model import Ridge\n",
    "from sklearn.metrics import mean_squared_error\n",
    "\n",
    "import mlflow\n",
    "import xgboost as xgb\n",
    "\n",
    "from hyperopt import fmin, tpe, hp, STATUS_OK, Trials\n",
    "from hyperopt.pyll import scope\n",
    "\n",
    "from sklearn.metrics import mean_squared_error\n",
    "from sklearn.ensemble import RandomForestRegressor, GradientBoostingRegressor, ExtraTreesRegressor\n",
    "from sklearn.svm import LinearSVR\n",
    "from xgboost import XGBRegressor  # Import XGBoost\n",
    "from sklearn.linear_model import LinearRegression #LinearRegression\n"
   ]
  },
  {
   "cell_type": "markdown",
   "id": "dd94aa15",
   "metadata": {},
   "source": [
    "---\n",
    "### Define Dataset Paths\n",
    "---\n",
    "1. Training to be done with data recorded in the month of **JULY**\n",
    "2. Validation to be done with data recorded in the month of **AUGUST**\n",
    "3. Testing to be done with data recorded in the month of **SEPTEMBER**\n",
    "\n",
    "---"
   ]
  },
  {
   "cell_type": "code",
   "execution_count": 2,
   "id": "da01f2da",
   "metadata": {},
   "outputs": [],
   "source": [
    "#define the training filepath\n",
    "filename_jul_train = './dataset/yellow_tripdata_2023-08.parquet'\n",
    "filename_aug_validate = './dataset/yellow_tripdata_2023-08.parquet'\n",
    "filename_sept_test = './dataset/yellow_tripdata_2023-09.parquet'\n",
    "model_output_filepath = './models'"
   ]
  },
  {
   "cell_type": "markdown",
   "id": "f70da886",
   "metadata": {},
   "source": [
    "---\n",
    "### MLflow Configuration for Experiment Tracking\n",
    "---\n",
    "MLflow, is an open-source platform for managing the end-to-end machine learning lifecycle. \n",
    "It involves setting the tracking URI and experiment name.\n",
    "\n",
    "**THE TRACKING URI**\n",
    "\n",
    "1. The tracking URI is the location where MLflow logs and stores information about experiments, runs, and artifacts.\n",
    "2. In this case, it is set to a local server running at http://127.0.0.1:5000. \n",
    "3. This means that MLflow will store its data in a SQLite database at that location.\n",
    "\n",
    "**THE EXPERIMENT NAME**\n",
    "\n",
    "1. In MLflow, an experiment is a named collection of runs, and it helps organize and track different machine learning workflows. \n",
    "2. The `mlflow.set_experiment` function is used to set the current experiment to the one specified by experiment_name. \n",
    "3. This means that any subsequent runs or logging within this script will be associated with the \"POC_NYC-Yellow-Taxi-Experiment\" experiment\n",
    "\n",
    "---"
   ]
  },
  {
   "cell_type": "code",
   "execution_count": 10,
   "id": "3458bf91",
   "metadata": {},
   "outputs": [
    {
     "name": "stderr",
     "output_type": "stream",
     "text": [
      "2023/12/06 19:31:47 INFO mlflow.tracking.fluent: Experiment with name 'NYC-Yellow-Taxi-Experiment-POC-dataset-1000' does not exist. Creating a new experiment.\n"
     ]
    },
    {
     "data": {
      "text/plain": [
       "<Experiment: artifact_location='mlflow-artifacts:/6', creation_time=1701909107264, experiment_id='6', last_update_time=1701909107264, lifecycle_stage='active', name='NYC-Yellow-Taxi-Experiment-POC-dataset-1000', tags={}>"
      ]
     },
     "execution_count": 10,
     "metadata": {},
     "output_type": "execute_result"
    }
   ],
   "source": [
    "# Set the tracking URI to use SQLite as the backend store\n",
    "mlflow.set_tracking_uri(\"http://127.0.0.1:5000\")\n",
    "\n",
    "# Set the experiment name mlflow\n",
    "EXPERIMENT_NAME = \"NYC-Yellow-Taxi-Experiment-POC-dataset-1000\"\n",
    "mlflow.set_experiment(EXPERIMENT_NAME)"
   ]
  },
  {
   "cell_type": "markdown",
   "id": "11b5e56b",
   "metadata": {},
   "source": [
    "---\n",
    "### Function:Data Preprocessing\n",
    "---\n",
    "This function reads a DataFrame from either a CSV file or a Parquet file, performs specific data preprocessing steps related to datetime, duration, filtering, and column manipulation, and returns the resulting DataFrame\n",
    "\n",
    "Following functions are performed under data pre-processing:\n",
    "1. File Format Check\n",
    "2. Datetime Conversion:\n",
    "3. Calculate Duration in Minutes\n",
    "4. Filter Duration\n",
    "5. Categorical Conversion\n",
    "6. Create Combined Location ID\n",
    "7. Return Processed DataFrame\n",
    "---"
   ]
  },
  {
   "cell_type": "code",
   "execution_count": 5,
   "id": "0d4ac396-f2cf-44c7-9320-3fcc8773e21f",
   "metadata": {
    "tags": []
   },
   "outputs": [],
   "source": [
    "def data_preprocess(filename):\n",
    "    # Check file format and read DataFrame accordingly\n",
    "    if filename.endswith('.csv'):\n",
    "        df = pd.read_csv(filename)\n",
    "        \n",
    "        # Convert datetime columns to pandas datetime objects\n",
    "        df.tpep_dropoff_datetime = pd.to_datetime(df.tpep_dropoff_datetime)\n",
    "        df.tpep_pickup_datetime = pd.to_datetime(df.tpep_pickup_datetime)\n",
    "        \n",
    "    elif filename.endswith('.parquet'):\n",
    "        df = pd.read_parquet(filename)\n",
    "        \n",
    "    # Calculate trip duration in minutes\n",
    "    df['duration'] = df.tpep_dropoff_datetime - df.tpep_pickup_datetime\n",
    "    df.duration = df.duration.apply(lambda td: td.total_seconds() / 60)\n",
    "    \n",
    "    # Filter trips based on duration (between 1 and 60 minutes)\n",
    "    df = df[(df.duration >= 1) & (df.duration <= 60)]\n",
    "    \n",
    "    # Convert selected columns to string type for categorical representation\n",
    "    categorical = ['PULocationID', 'DOLocationID']\n",
    "    df[categorical] = df[categorical].astype(str)\n",
    "    \n",
    "    # Create a new column 'PU_DO' by combining pickup and dropoff location IDs\n",
    "    df['PU_DO'] = df['PULocationID'] + '_' + df['DOLocationID']\n",
    "    \n",
    "    # Return the processed DataFrame\n",
    "    return df\n"
   ]
  },
  {
   "cell_type": "markdown",
   "id": "5554eb46",
   "metadata": {},
   "source": [
    "---\n",
    "### Function: Distribution Plotting Function for Comparing Predicted and Actual Values\n",
    "---"
   ]
  },
  {
   "cell_type": "code",
   "execution_count": 6,
   "id": "25f7beaf",
   "metadata": {},
   "outputs": [],
   "source": [
    "def plot_graph(y_train, y_pred, model_class):\n",
    "    # Plot the distribution of predicted values using Seaborn\n",
    "    print('====================================================================')\n",
    "    print(f'\\nplotting predicted and actual values for the model :{model_class}')\n",
    "    sns.distplot(y_pred, label='prediction_linear_regression')\n",
    "\n",
    "    # Plot the distribution of actual values using Seaborn\n",
    "    sns.distplot(y_train, label='actual')\n",
    "\n",
    "    # Display the legend to differentiate between the two distributions\n",
    "    plt.legend()\n",
    "\n",
    "# Example usage:\n",
    "# plot_graph(y_train, y_pred)\n"
   ]
  },
  {
   "cell_type": "markdown",
   "id": "7102201b",
   "metadata": {},
   "source": [
    "---\n",
    "### Function: MLflow Integration for Logging, Training, and Evaluating Machine Learning Models\n",
    "---"
   ]
  },
  {
   "cell_type": "code",
   "execution_count": 7,
   "id": "cf427dc6",
   "metadata": {},
   "outputs": [],
   "source": [
    "def train_and_log_model(model_class, X_train, y_train, X_val, y_val):\n",
    "    # Start an MLflow run\n",
    "    with mlflow.start_run():\n",
    "        # Log parameters, including file paths and the model name\n",
    "        mlflow.log_params({\n",
    "            \"train-data-path\": f\"{filename_jul_train}\",\n",
    "            \"valid-data-path\": f\"{filename_aug_validate}\",\n",
    "            \"model-name\": f\"{model_class}\"\n",
    "        })\n",
    "\n",
    "        # Log a preprocessor artifact\n",
    "       # mlflow.log_artifact(f\"{model_output_filepath}/preprocessor.b\", artifact_path=\"preprocessor\")\n",
    "        # Train the model\n",
    "        mlmodel = model_class()\n",
    "        mlmodel.fit(X_train, y_train)\n",
    "\n",
    "        # Make predictions and calculate RMSE\n",
    "        y_pred = mlmodel.predict(X_val)\n",
    "        rmse = mean_squared_error(y_val, y_pred, squared=False)\n",
    "\n",
    "        # Plot a distribution graph of actual vs predicted values\n",
    "        plot_graph(y_train, y_pred, model_class)\n",
    "\n",
    "        # Log the RMSE metric\n",
    "        mlflow.log_metric(\"rmse\", rmse)\n",
    "\n",
    "        # Log the trained model\n",
    "        mlflow.sklearn.log_model(mlmodel, \"model\")\n"
   ]
  },
  {
   "cell_type": "code",
   "execution_count": 8,
   "id": "e11f4f42",
   "metadata": {},
   "outputs": [],
   "source": [
    "def main(X_train, y_train, X_val, y_val):\n",
    "    mlflow.sklearn.autolog()\n",
    "\n",
    "    # List of regression models to iterate over\n",
    "    regression_models = [\n",
    "        RandomForestRegressor, \n",
    "        GradientBoostingRegressor, \n",
    "        ExtraTreesRegressor, \n",
    "        LinearSVR,\n",
    "        XGBRegressor, \n",
    "        LinearRegression  # Include LinearRegression\n",
    "    ]\n",
    "\n",
    "    for model_class in regression_models:\n",
    "        train_and_log_model(model_class, X_train, y_train, X_val, y_val)"
   ]
  },
  {
   "cell_type": "markdown",
   "id": "57009d75",
   "metadata": {},
   "source": [
    "---\n",
    "---\n",
    "### Main Function\n",
    "---\n",
    "---\n",
    "#### Data Preprocessing and Dataset Initialization\n",
    "---\n",
    "1. The `data_preprocess` function on three different filenames corresponding to training, validation, and test datasets. \n",
    "\n",
    "2. It then prints the lengths of the resulting DataFrames for the training and validation datasets.\n",
    "\n",
    "---\n",
    "#### Feature Transformation using DictVectorizer\n",
    "---\n",
    "1. The lists `categorical` and `numerical` define the features to be treated as categorical and numerical, respectively.\n",
    "\n",
    "2. The `DictVectorizer` is initialized.\n",
    "\n",
    "3. The training data is converted to a dictionary of records (`train_dicts`) and then transformed into a sparse matrix (`X_train`) using the `fit_transform` method of `DictVectorizer`.\n",
    "\n",
    "---\n"
   ]
  },
  {
   "cell_type": "code",
   "execution_count": 11,
   "id": "09266c6e",
   "metadata": {},
   "outputs": [
    {
     "name": "stderr",
     "output_type": "stream",
     "text": [
      "2023/12/06 19:32:35 WARNING mlflow.sklearn: Failed to log training dataset information to MLflow Tracking. Reason: 'numpy.ndarray' object has no attribute 'toarray'\n"
     ]
    },
    {
     "name": "stdout",
     "output_type": "stream",
     "text": [
      "====================================================================\n",
      "\n",
      "plotting predicted and actual values for the model :<class 'sklearn.ensemble._forest.RandomForestRegressor'>\n"
     ]
    },
    {
     "name": "stderr",
     "output_type": "stream",
     "text": [
      "/var/folders/c9/wytgs3g14698n1_9r5l9959c0000gn/T/ipykernel_5657/3161087341.py:5: UserWarning: \n",
      "\n",
      "`distplot` is a deprecated function and will be removed in seaborn v0.14.0.\n",
      "\n",
      "Please adapt your code to use either `displot` (a figure-level function with\n",
      "similar flexibility) or `histplot` (an axes-level function for histograms).\n",
      "\n",
      "For a guide to updating your code to use the new functions, please see\n",
      "https://gist.github.com/mwaskom/de44147ed2974457ad6372750bbe5751\n",
      "\n",
      "  sns.distplot(y_pred, label='prediction_linear_regression')\n",
      "/var/folders/c9/wytgs3g14698n1_9r5l9959c0000gn/T/ipykernel_5657/3161087341.py:8: UserWarning: \n",
      "\n",
      "`distplot` is a deprecated function and will be removed in seaborn v0.14.0.\n",
      "\n",
      "Please adapt your code to use either `displot` (a figure-level function with\n",
      "similar flexibility) or `histplot` (an axes-level function for histograms).\n",
      "\n",
      "For a guide to updating your code to use the new functions, please see\n",
      "https://gist.github.com/mwaskom/de44147ed2974457ad6372750bbe5751\n",
      "\n",
      "  sns.distplot(y_train, label='actual')\n",
      "2023/12/06 19:32:41 WARNING mlflow.sklearn: Failed to log training dataset information to MLflow Tracking. Reason: 'numpy.ndarray' object has no attribute 'toarray'\n"
     ]
    },
    {
     "name": "stdout",
     "output_type": "stream",
     "text": [
      "====================================================================\n",
      "\n",
      "plotting predicted and actual values for the model :<class 'sklearn.ensemble._gb.GradientBoostingRegressor'>\n"
     ]
    },
    {
     "name": "stderr",
     "output_type": "stream",
     "text": [
      "/var/folders/c9/wytgs3g14698n1_9r5l9959c0000gn/T/ipykernel_5657/3161087341.py:5: UserWarning: \n",
      "\n",
      "`distplot` is a deprecated function and will be removed in seaborn v0.14.0.\n",
      "\n",
      "Please adapt your code to use either `displot` (a figure-level function with\n",
      "similar flexibility) or `histplot` (an axes-level function for histograms).\n",
      "\n",
      "For a guide to updating your code to use the new functions, please see\n",
      "https://gist.github.com/mwaskom/de44147ed2974457ad6372750bbe5751\n",
      "\n",
      "  sns.distplot(y_pred, label='prediction_linear_regression')\n",
      "/var/folders/c9/wytgs3g14698n1_9r5l9959c0000gn/T/ipykernel_5657/3161087341.py:8: UserWarning: \n",
      "\n",
      "`distplot` is a deprecated function and will be removed in seaborn v0.14.0.\n",
      "\n",
      "Please adapt your code to use either `displot` (a figure-level function with\n",
      "similar flexibility) or `histplot` (an axes-level function for histograms).\n",
      "\n",
      "For a guide to updating your code to use the new functions, please see\n",
      "https://gist.github.com/mwaskom/de44147ed2974457ad6372750bbe5751\n",
      "\n",
      "  sns.distplot(y_train, label='actual')\n",
      "2023/12/06 19:32:44 WARNING mlflow.sklearn: Failed to log training dataset information to MLflow Tracking. Reason: 'numpy.ndarray' object has no attribute 'toarray'\n"
     ]
    },
    {
     "name": "stdout",
     "output_type": "stream",
     "text": [
      "====================================================================\n",
      "\n",
      "plotting predicted and actual values for the model :<class 'sklearn.ensemble._forest.ExtraTreesRegressor'>\n"
     ]
    },
    {
     "name": "stderr",
     "output_type": "stream",
     "text": [
      "/var/folders/c9/wytgs3g14698n1_9r5l9959c0000gn/T/ipykernel_5657/3161087341.py:5: UserWarning: \n",
      "\n",
      "`distplot` is a deprecated function and will be removed in seaborn v0.14.0.\n",
      "\n",
      "Please adapt your code to use either `displot` (a figure-level function with\n",
      "similar flexibility) or `histplot` (an axes-level function for histograms).\n",
      "\n",
      "For a guide to updating your code to use the new functions, please see\n",
      "https://gist.github.com/mwaskom/de44147ed2974457ad6372750bbe5751\n",
      "\n",
      "  sns.distplot(y_pred, label='prediction_linear_regression')\n",
      "/var/folders/c9/wytgs3g14698n1_9r5l9959c0000gn/T/ipykernel_5657/3161087341.py:8: UserWarning: \n",
      "\n",
      "`distplot` is a deprecated function and will be removed in seaborn v0.14.0.\n",
      "\n",
      "Please adapt your code to use either `displot` (a figure-level function with\n",
      "similar flexibility) or `histplot` (an axes-level function for histograms).\n",
      "\n",
      "For a guide to updating your code to use the new functions, please see\n",
      "https://gist.github.com/mwaskom/de44147ed2974457ad6372750bbe5751\n",
      "\n",
      "  sns.distplot(y_train, label='actual')\n",
      "2023/12/06 19:32:48 WARNING mlflow.sklearn: Failed to log training dataset information to MLflow Tracking. Reason: 'numpy.ndarray' object has no attribute 'toarray'\n",
      "/Users/shreyajaiswal/opt/anaconda3/envs/myenv/lib/python3.8/site-packages/sklearn/svm/_classes.py:32: FutureWarning: The default value of `dual` will change from `True` to `'auto'` in 1.5. Set the value of `dual` explicitly to suppress the warning.\n",
      "  warnings.warn(\n",
      "/Users/shreyajaiswal/opt/anaconda3/envs/myenv/lib/python3.8/site-packages/sklearn/svm/_base.py:1250: ConvergenceWarning: Liblinear failed to converge, increase the number of iterations.\n",
      "  warnings.warn(\n"
     ]
    },
    {
     "name": "stdout",
     "output_type": "stream",
     "text": [
      "====================================================================\n",
      "\n",
      "plotting predicted and actual values for the model :<class 'sklearn.svm._classes.LinearSVR'>\n"
     ]
    },
    {
     "name": "stderr",
     "output_type": "stream",
     "text": [
      "/var/folders/c9/wytgs3g14698n1_9r5l9959c0000gn/T/ipykernel_5657/3161087341.py:5: UserWarning: \n",
      "\n",
      "`distplot` is a deprecated function and will be removed in seaborn v0.14.0.\n",
      "\n",
      "Please adapt your code to use either `displot` (a figure-level function with\n",
      "similar flexibility) or `histplot` (an axes-level function for histograms).\n",
      "\n",
      "For a guide to updating your code to use the new functions, please see\n",
      "https://gist.github.com/mwaskom/de44147ed2974457ad6372750bbe5751\n",
      "\n",
      "  sns.distplot(y_pred, label='prediction_linear_regression')\n",
      "/var/folders/c9/wytgs3g14698n1_9r5l9959c0000gn/T/ipykernel_5657/3161087341.py:8: UserWarning: \n",
      "\n",
      "`distplot` is a deprecated function and will be removed in seaborn v0.14.0.\n",
      "\n",
      "Please adapt your code to use either `displot` (a figure-level function with\n",
      "similar flexibility) or `histplot` (an axes-level function for histograms).\n",
      "\n",
      "For a guide to updating your code to use the new functions, please see\n",
      "https://gist.github.com/mwaskom/de44147ed2974457ad6372750bbe5751\n",
      "\n",
      "  sns.distplot(y_train, label='actual')\n"
     ]
    },
    {
     "name": "stdout",
     "output_type": "stream",
     "text": [
      "====================================================================\n",
      "\n",
      "plotting predicted and actual values for the model :<class 'xgboost.sklearn.XGBRegressor'>\n"
     ]
    },
    {
     "name": "stderr",
     "output_type": "stream",
     "text": [
      "/var/folders/c9/wytgs3g14698n1_9r5l9959c0000gn/T/ipykernel_5657/3161087341.py:5: UserWarning: \n",
      "\n",
      "`distplot` is a deprecated function and will be removed in seaborn v0.14.0.\n",
      "\n",
      "Please adapt your code to use either `displot` (a figure-level function with\n",
      "similar flexibility) or `histplot` (an axes-level function for histograms).\n",
      "\n",
      "For a guide to updating your code to use the new functions, please see\n",
      "https://gist.github.com/mwaskom/de44147ed2974457ad6372750bbe5751\n",
      "\n",
      "  sns.distplot(y_pred, label='prediction_linear_regression')\n",
      "/var/folders/c9/wytgs3g14698n1_9r5l9959c0000gn/T/ipykernel_5657/3161087341.py:8: UserWarning: \n",
      "\n",
      "`distplot` is a deprecated function and will be removed in seaborn v0.14.0.\n",
      "\n",
      "Please adapt your code to use either `displot` (a figure-level function with\n",
      "similar flexibility) or `histplot` (an axes-level function for histograms).\n",
      "\n",
      "For a guide to updating your code to use the new functions, please see\n",
      "https://gist.github.com/mwaskom/de44147ed2974457ad6372750bbe5751\n",
      "\n",
      "  sns.distplot(y_train, label='actual')\n",
      "2023/12/06 19:32:52 WARNING mlflow.sklearn: Failed to log training dataset information to MLflow Tracking. Reason: 'numpy.ndarray' object has no attribute 'toarray'\n"
     ]
    },
    {
     "name": "stdout",
     "output_type": "stream",
     "text": [
      "====================================================================\n",
      "\n",
      "plotting predicted and actual values for the model :<class 'sklearn.linear_model._base.LinearRegression'>\n"
     ]
    },
    {
     "name": "stderr",
     "output_type": "stream",
     "text": [
      "/var/folders/c9/wytgs3g14698n1_9r5l9959c0000gn/T/ipykernel_5657/3161087341.py:5: UserWarning: \n",
      "\n",
      "`distplot` is a deprecated function and will be removed in seaborn v0.14.0.\n",
      "\n",
      "Please adapt your code to use either `displot` (a figure-level function with\n",
      "similar flexibility) or `histplot` (an axes-level function for histograms).\n",
      "\n",
      "For a guide to updating your code to use the new functions, please see\n",
      "https://gist.github.com/mwaskom/de44147ed2974457ad6372750bbe5751\n",
      "\n",
      "  sns.distplot(y_pred, label='prediction_linear_regression')\n",
      "/var/folders/c9/wytgs3g14698n1_9r5l9959c0000gn/T/ipykernel_5657/3161087341.py:8: UserWarning: \n",
      "\n",
      "`distplot` is a deprecated function and will be removed in seaborn v0.14.0.\n",
      "\n",
      "Please adapt your code to use either `displot` (a figure-level function with\n",
      "similar flexibility) or `histplot` (an axes-level function for histograms).\n",
      "\n",
      "For a guide to updating your code to use the new functions, please see\n",
      "https://gist.github.com/mwaskom/de44147ed2974457ad6372750bbe5751\n",
      "\n",
      "  sns.distplot(y_train, label='actual')\n"
     ]
    },
    {
     "name": "stdout",
     "output_type": "stream",
     "text": [
      "Successfully completed\n"
     ]
    },
    {
     "data": {
      "image/png": "[encoded data removed]",
      "text/plain": [
       "<Figure size 640x480 with 1 Axes>"
      ]
     },
     "metadata": {},
     "output_type": "display_data"
    }
   ],
   "source": [
    "if __name__ == \"__main__\":\n",
    "    # Preprocess the training data\n",
    "    df_train = data_preprocess(filename_jul_train).head(1000)\n",
    "\n",
    "    # Preprocess the validation data\n",
    "    df_validate = data_preprocess(filename_aug_validate).head(1000)\n",
    "\n",
    "    # Preprocess the test data\n",
    "    df_test = data_preprocess(filename_sept_test).head(1000)\n",
    "\n",
    "    # Print the lengths of the training and validation DataFrames\n",
    "    len(df_train), len(df_validate)\n",
    "\n",
    "    # Load your data (X_train, y_train, X_val, y_val)\n",
    "    # Define categorical and numerical features : independant features\n",
    "    categorical = ['PU_DO']\n",
    "    numerical = ['trip_distance']\n",
    "\n",
    "    # Initialize a DictVectorizer\n",
    "    dv = DictVectorizer()\n",
    "\n",
    "    # Convert training data to a dictionary of records and then transform it into a sparse matrix\n",
    "    train_dicts = df_train[categorical + numerical].to_dict(orient='records')\n",
    "    X_train = dv.fit_transform(train_dicts)\n",
    "\n",
    "    # Convert validation data to a dictionary of records and then transform it into a sparse matrix\n",
    "    val_dicts = df_validate[categorical + numerical].to_dict(orient='records')\n",
    "    X_val = dv.transform(val_dicts)\n",
    "\n",
    "    # Convert test data to a dictionary of records and then transform it into a sparse matrix\n",
    "    test_dicts = df_test[categorical + numerical].to_dict(orient='records')\n",
    "    X_test = dv.transform(test_dicts)\n",
    "\n",
    "    #dependant feature/target variable\n",
    "\n",
    "    target = 'duration'\n",
    "\n",
    "    y_train = df_train[target].values\n",
    "    y_val = df_validate[target].values\n",
    "    y_test = df_test[target].values\n",
    "\n",
    "    # Call the main function with your data\n",
    "    main(X_train, y_train, X_val, y_val)\n",
    "\n",
    "    print(\"Successfully completed\")"
   ]
  },
  {
   "cell_type": "code",
   "execution_count": null,
   "id": "8b3dc9ed",
   "metadata": {},
   "outputs": [],
   "source": [
    "# with open(f'{model_output_filepath}/lr-v-1.bin', 'wb') as f_out:\n",
    "#     pickle.dump((dv, lr), f_out)\n",
    "#     print(\"sucessfully recorded current model\")"
   ]
  },
  {
   "cell_type": "code",
   "execution_count": null,
   "id": "1a280542",
   "metadata": {},
   "outputs": [],
   "source": [
    "# with mlflow.start_run():\n",
    "\n",
    "#     mlflow.set_tag(\"developers\",\"mlops-nyc-yellow-taxi\")\n",
    "#     mlflow.log_param(\"train-data_path\",f\"{filename_aug_train}\")\n",
    "#     mlflow.log_param(\"validate-data_path\",f\"{filename_sept_validate}\")\n",
    "\n",
    "#     alpha = 0.01\n",
    "\n",
    "#     mlflow.log_param(\"alpha\",f\"{alpha}\")\n",
    "#     y_pred_lr, rmse =model_linear_regression(X_train,y_train)\n",
    "\n",
    "#     mlflow.log_metric(\"rmse\", rmse)\n",
    "    \n"
   ]
  },
  {
   "cell_type": "code",
   "execution_count": null,
   "id": "5672aa1b",
   "metadata": {},
   "outputs": [],
   "source": [
    "# with mlflow.start_run():\n",
    "\n",
    "#     mlflow.set_tag(\"developers\",\"shreya\",\"nyc-yellow-taxi\",\"mlops\")\n",
    "#     mlflow.log_param(\"train-data_path\",f\"{filename_aug_train}\")\n",
    "#     mlflow.log_param(\"validate-data_path\",f\"{filename_sept_validate}\")\n",
    "\n",
    "#     alpha = 0.01\n",
    "\n",
    "#     mlflow.log_param(\"alpha\",f\"{alpha}\")\n",
    "    \n"
   ]
  },
  {
   "cell_type": "code",
   "execution_count": null,
   "id": "6c997406",
   "metadata": {},
   "outputs": [],
   "source": [
    "# train = xgb.DMatrix(X_train, label=y_train)\n",
    "# valid = xgb.DMatrix(X_val, label=y_val)"
   ]
  },
  {
   "cell_type": "code",
   "execution_count": null,
   "id": "090f135d",
   "metadata": {},
   "outputs": [],
   "source": [
    "\n",
    "# def xgboost(params):\n",
    "#     with mlflow.start_run():\n",
    "#         mlflow.set_tag(\"model\", \"xgboost\")\n",
    "#         mlflow.log_params(params)\n",
    "#         booster = xgb.train(\n",
    "#             params=params,\n",
    "#             dtrain=train,\n",
    "#             num_boost_round=1,\n",
    "#             evals=[(valid, 'validation')],\n",
    "#             early_stopping_rounds=5\n",
    "#         )\n",
    "#         y_pred = booster.predict(valid)\n",
    "#         rmse = mean_squared_error(y_val, y_pred, squared=False)\n",
    "#         mlflow.log_metric(\"rmse\", rmse)\n",
    "\n",
    "#     return {'loss': rmse, 'status': STATUS_OK}\n",
    "\n",
    "# search_space = {\n",
    "#     'max_depth': scope.int(hp.quniform('max_depth', 4, 100, 1)),\n",
    "#     'learning_rate': hp.loguniform('learning_rate', -3, 0),\n",
    "#     'reg_alpha': hp.loguniform('reg_alpha', -5, -1),\n",
    "#     'reg_lambda': hp.loguniform('reg_lambda', -6, -1),\n",
    "#     'min_child_weight': hp.loguniform('min_child_weight', -1, 3),\n",
    "#     'objective': 'reg:linear',\n",
    "#     'seed': 42\n",
    "# }\n",
    "\n",
    "# best_result = fmin(\n",
    "#     fn=xgboost,\n",
    "#     space=search_space,\n",
    "#     algo=tpe.suggest,\n",
    "#     max_evals=2,\n",
    "#     trials=Trials()\n",
    "# )"
   ]
  },
  {
   "cell_type": "code",
   "execution_count": null,
   "id": "5d042525",
   "metadata": {},
   "outputs": [],
   "source": [
    "# search_space = {\n",
    "#     'max_depth': scope.int(hp.quniform('max_depth', 4, 100, 1)),\n",
    "#     'learning_rate': hp.loguniform('learning_rate', -3, 0),\n",
    "#     'reg_alpha': hp.loguniform('reg_alpha', -5, -1),\n",
    "#     'reg_lambda': hp.loguniform('reg_lambda', -6, -1),\n",
    "#     'min_child_weight': hp.loguniform('min_child_weight', -1, 3),\n",
    "#     'objective': 'reg:linear',\n",
    "#     'seed': 42\n",
    "# }\n",
    "\n",
    "# best_result = fmin(\n",
    "#     fn=xgboost,\n",
    "#     space=search_space,\n",
    "#     algo=tpe.suggest,\n",
    "#     max_evals=2,\n",
    "#     trials=Trials()\n",
    "# )"
   ]
  },
  {
   "cell_type": "code",
   "execution_count": null,
   "id": "1cc39c65",
   "metadata": {},
   "outputs": [],
   "source": [
    "# params = {\n",
    "    \n",
    "# }\n",
    "\n",
    "# mlflow.xgboost.autolog()\n",
    "\n",
    "# with mlflow.start_run():\n",
    "#     mlflow.set_tag()\n",
    "#     mlflow.log_param()\n",
    "\n",
    "#     booster = xgb.train(\n",
    "#         booster = xgb.train(\n",
    "#         params=params,\n",
    "#         dtrain=train,\n",
    "#         num_boost_round=1000,\n",
    "#         evals=[(valid, 'validation')],\n",
    "#         early_stopping_rounds=50\n",
    "# )\n",
    "#     )"
   ]
  },
  {
   "cell_type": "code",
   "execution_count": null,
   "id": "3c9e5400-1379-4fb2-9b38-1ff757d04909",
   "metadata": {},
   "outputs": [],
   "source": [
    "# #Fitting the linear regression model to the training data \n",
    "# def model_linear_regression(X_train,y_train):\n",
    "#     lr = LinearRegression()\n",
    "#     lr.fit(X_train, y_train)\n",
    "\n",
    "#     #using the trained model to predict outcome of the validation data\n",
    "#     y_pred = lr.predict(X_val)\n",
    "\n",
    "#     print(\"The mean square error is --> \", mean_squared_error(y_val, y_pred, squared=False))\n",
    "#     return y_pred, mean_squared_error(y_val, y_pred, squared=False)"
   ]
  }
 ],
 "metadata": {
  "kernelspec": {
   "display_name": "Python 3 (ipykernel)",
   "language": "python",
   "name": "python3"
  },
  "language_info": {
   "codemirror_mode": {
    "name": "ipython",
    "version": 3
   },
   "file_extension": ".py",
   "mimetype": "text/x-python",
   "name": "python",
   "nbconvert_exporter": "python",
   "pygments_lexer": "ipython3",
   "version": "3.8.18"
  }
 },
 "nbformat": 4,
 "nbformat_minor": 5
}
