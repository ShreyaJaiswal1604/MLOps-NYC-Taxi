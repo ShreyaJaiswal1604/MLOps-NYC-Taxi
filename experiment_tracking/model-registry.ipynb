{
 "cells": [
  {
   "cell_type": "code",
   "execution_count": 1,
   "id": "d6ed9a10-02d9-4567-88f9-a5bc6f1d75be",
   "metadata": {},
   "outputs": [],
   "source": [
    "import pandas as pd"
   ]
  },
  {
   "cell_type": "code",
   "execution_count": 4,
   "id": "acc1f814-9999-41fe-957e-359fbb42ae54",
   "metadata": {
    "tags": []
   },
   "outputs": [],
   "source": [
    "import pickle\n",
    "import seaborn as sns\n",
    "import matplotlib.pyplot as plt\n",
    "\n",
    "from sklearn.feature_extraction import DictVectorizer\n",
    "from sklearn.linear_model import LinearRegression\n",
    "from sklearn.linear_model import Lasso\n",
    "from sklearn.linear_model import Ridge\n",
    "\n",
    "from sklearn.metrics import mean_squared_error"
   ]
  },
  {
   "cell_type": "code",
   "execution_count": 7,
   "id": "2d2387cc-42ca-4a34-9248-b6f4f275bd87",
   "metadata": {},
   "outputs": [],
   "source": [
    "filename_sept_train = './dataset/yellow_tripdata_2023-08.parquet'\n",
    "filename_aug_validate = './dataset/yellow_tripdata_2023-09.parquet'\n",
    "model_output_filepath = './model/linear_regression'"
   ]
  },
  {
   "cell_type": "code",
   "execution_count": 8,
   "id": "0d4ac396-f2cf-44c7-9320-3fcc8773e21f",
   "metadata": {
    "tags": []
   },
   "outputs": [],
   "source": [
    "def read_dataframe(filename):\n",
    "    if filename.endswith('.csv'):\n",
    "        df = pd.read_csv(filename)\n",
    "        \n",
    "        df.tpep_dropoff_datetime = pd.to_datetime(df.tpep_dropoff_datetime)\n",
    "        df.tpep_pickup_datetime = pd.to_datetime(df.tpep_pickup_datetime)\n",
    "        \n",
    "    elif filename.endswith('.parquet'):\n",
    "        df = pd.read_parquet(filename)\n",
    "        \n",
    "    df['duration'] = df.tpep_dropoff_datetime - df.tpep_pickup_datetime\n",
    "    df.duration = df.duration.apply(lambda td: td.total_seconds() / 60)\n",
    "    \n",
    "    df = df[(df.duration >= 1) & (df.duration <= 60)]\n",
    "    \n",
    "    categorical = ['PULocationID', 'DOLocationID']\n",
    "    df[categorical] = df[categorical].astype(str)\n",
    "    \n",
    "    return df\n",
    "        "
   ]
  },
  {
   "cell_type": "code",
   "execution_count": 9,
   "id": "17684e59-28ba-4aaa-8d8e-7ab65f01437a",
   "metadata": {},
   "outputs": [],
   "source": [
    "df_train = read_dataframe(filename_sept_train)\n",
    "df_validate = read_dataframe(filename_aug_validate)"
   ]
  },
  {
   "cell_type": "code",
   "execution_count": 10,
   "id": "50f91c67-ad80-43f9-9097-597556fcbc7b",
   "metadata": {},
   "outputs": [
    {
     "data": {
      "text/plain": [
       "(2742971, 2749262)"
      ]
     },
     "execution_count": 10,
     "metadata": {},
     "output_type": "execute_result"
    }
   ],
   "source": [
    "len(df_train), len(df_validate)"
   ]
  },
  {
   "cell_type": "code",
   "execution_count": 11,
   "id": "b9bc21b0-fe89-4d89-9a99-0747e3f9ffb5",
   "metadata": {},
   "outputs": [],
   "source": [
    "df_train['PU_DO'] = df_train['PULocationID'] + '_' + df_train['DOLocationID']\n",
    "df_validate['PU_DO'] = df_validate['PULocationID'] + '_' + df_validate['DOLocationID']"
   ]
  },
  {
   "cell_type": "code",
   "execution_count": 12,
   "id": "ce29565b-2359-4329-9ec5-aae178126667",
   "metadata": {},
   "outputs": [],
   "source": [
    "categorical = ['PU_DO']\n",
    "numerical = ['trip_distance']\n",
    "\n",
    "dv = DictVectorizer()\n",
    "\n",
    "train_dicts = df_train[categorical + numerical].to_dict(orient='records')\n",
    "X_train = dv.fit_transform(train_dicts)\n",
    "\n",
    "val_dicts = df_validate[categorical + numerical].to_dict(orient='records')\n",
    "X_val = dv.transform(val_dicts)"
   ]
  },
  {
   "cell_type": "code",
   "execution_count": 13,
   "id": "8494c065-5fbc-495c-a4d4-31a8f70b4b34",
   "metadata": {},
   "outputs": [],
   "source": [
    "target = 'duration'\n",
    "y_train = df_train[target].values\n",
    "y_val = df_validate[target].values"
   ]
  },
  {
   "cell_type": "code",
   "execution_count": 14,
   "id": "d85667f1-76c4-4482-963b-094666f6b05f",
   "metadata": {},
   "outputs": [
    {
     "data": {
      "text/plain": [
       "5.9086068688901126"
      ]
     },
     "execution_count": 14,
     "metadata": {},
     "output_type": "execute_result"
    }
   ],
   "source": [
    "#Fitting the linear regression model to the training data \n",
    "lr = LinearRegression()\n",
    "lr.fit(X_train, y_train)\n",
    "\n",
    "#using the trained model to predict outcome of the validation data\n",
    "y_pred = lr.predict(X_val)\n",
    "\n",
    "mean_squared_error(y_val, y_pred, squared=False)"
   ]
  },
  {
   "cell_type": "code",
   "execution_count": 15,
   "id": "8dd1abfc-c195-4faf-accf-19a00d6dc6e3",
   "metadata": {},
   "outputs": [
    {
     "data": {
      "text/plain": [
       "10.306062579741154"
      ]
     },
     "execution_count": 15,
     "metadata": {},
     "output_type": "execute_result"
    }
   ],
   "source": [
    "ls = Lasso(0.01)\n",
    "ls.fit(X_train, y_train)\n",
    "\n",
    "y_pred = ls.predict(X_val)\n",
    "\n",
    "mean_squared_error(y_val, y_pred, squared=False)"
   ]
  },
  {
   "cell_type": "code",
   "execution_count": 16,
   "id": "3c9e5400-1379-4fb2-9b38-1ff757d04909",
   "metadata": {},
   "outputs": [
    {
     "data": {
      "text/plain": [
       "10.306062579741154"
      ]
     },
     "execution_count": 16,
     "metadata": {},
     "output_type": "execute_result"
    }
   ],
   "source": [
    "rd = Ridge(0.01)\n",
    "rd.fit(X_train, y_train)\n",
    "\n",
    "y_pred = ls.predict(X_val)\n",
    "\n",
    "mean_squared_error(y_val, y_pred, squared=False)"
   ]
  },
  {
   "cell_type": "code",
   "execution_count": 21,
   "id": "8c8867dc-5778-49e7-90ed-cba2ad5ea673",
   "metadata": {},
   "outputs": [
    {
     "name": "stdout",
     "output_type": "stream",
     "text": [
      "sucessfully recorded current model\n"
     ]
    }
   ],
   "source": [
    "with open(f'{model_output_filepath}/lr-v-1.bin', 'wb') as f_out:\n",
    "    pickle.dump((dv, lr), f_out)\n",
    "    print(\"sucessfully recorded current model\")"
   ]
  },
  {
   "cell_type": "code",
   "execution_count": null,
   "id": "1bc505ea-a19b-4be8-9e0d-f1e4358c9bab",
   "metadata": {},
   "outputs": [],
   "source": []
  }
 ],
 "metadata": {
  "kernelspec": {
   "display_name": "Python 3 (ipykernel)",
   "language": "python",
   "name": "python3"
  },
  "language_info": {
   "codemirror_mode": {
    "name": "ipython",
    "version": 3
   },
   "file_extension": ".py",
   "mimetype": "text/x-python",
   "name": "python",
   "nbconvert_exporter": "python",
   "pygments_lexer": "ipython3",
   "version": "3.9.12"
  }
 },
 "nbformat": 4,
 "nbformat_minor": 5
}
