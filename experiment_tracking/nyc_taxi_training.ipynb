{
 "cells": [
  {
   "cell_type": "code",
   "execution_count": 27,
   "metadata": {},
   "outputs": [],
   "source": [
    "import os\n",
    "import pickle\n",
    "import argparse\n",
    "import mlflow\n",
    "import numpy as np\n",
    "import pandas as pd\n",
    "from hyperopt import STATUS_OK, Trials, fmin, hp, tpe\n",
    "from hyperopt.pyll import scope\n",
    "from sklearn.ensemble import ExtraTreesRegressor  # Change: Using ExtraTreesRegressor\n",
    "from sklearn.metrics import mean_squared_error\n",
    "from sklearn.feature_extraction import DictVectorizer"
   ]
  },
  {
   "cell_type": "code",
   "execution_count": 28,
   "metadata": {},
   "outputs": [],
   "source": [
    "#define the training filepath\n",
    "filename_jul_train = './dataset/yellow_tripdata_2023_07.parquet'\n",
    "filename_aug_validate = './dataset/yellow_tripdata_2023_08.parquet'\n",
    "filename_sept_test = './dataset/yellow_tripdata_2023_09.parquet'\n",
    "model_output_filepath = './models'"
   ]
  },
  {
   "cell_type": "code",
   "execution_count": 13,
   "metadata": {},
   "outputs": [
    {
     "name": "stderr",
     "output_type": "stream",
     "text": [
      "2023/12/09 02:19:53 INFO mlflow.tracking.fluent: Experiment with name 'nyc-extra-trees-hyperopt-v1' does not exist. Creating a new experiment.\n"
     ]
    },
    {
     "data": {
      "text/plain": [
       "<Experiment: artifact_location='mlflow-artifacts:/1', creation_time=1702106393966, experiment_id='1', last_update_time=1702106393966, lifecycle_stage='active', name='nyc-extra-trees-hyperopt-v1', tags={}>"
      ]
     },
     "execution_count": 13,
     "metadata": {},
     "output_type": "execute_result"
    }
   ],
   "source": [
    "mlflow.set_tracking_uri(\"http://127.0.0.1:5000\")\n",
    "mlflow.set_experiment(\"nyc-extra-trees-hyperopt-v1\")  # Change: Updated experiment name"
   ]
  },
  {
   "cell_type": "code",
   "execution_count": 29,
   "metadata": {},
   "outputs": [],
   "source": [
    "def data_preprocess(filename):\n",
    "    # Check file format and read DataFrame accordingly\n",
    "    if filename.endswith('.csv'):\n",
    "        df = pd.read_csv(filename)\n",
    "        \n",
    "        # Convert datetime columns to pandas datetime objects\n",
    "        df.tpep_dropoff_datetime = pd.to_datetime(df.tpep_dropoff_datetime)\n",
    "        df.tpep_pickup_datetime = pd.to_datetime(df.tpep_pickup_datetime)\n",
    "        \n",
    "    elif filename.endswith('.parquet'):\n",
    "        df = pd.read_parquet(filename)\n",
    "        \n",
    "    # Calculate trip duration in minutes\n",
    "    df['duration'] = df.tpep_dropoff_datetime - df.tpep_pickup_datetime\n",
    "    df.duration = df.duration.apply(lambda td: td.total_seconds() / 60)\n",
    "    \n",
    "    # Filter trips based on duration (between 1 and 60 minutes)\n",
    "    df = df[(df.duration >= 1) & (df.duration <= 60)]\n",
    "    \n",
    "    # Convert selected columns to string type for categorical representation\n",
    "    categorical = ['PULocationID', 'DOLocationID']\n",
    "    df[categorical] = df[categorical].astype(str)\n",
    "    \n",
    "    # Create a new column 'PU_DO' by combining pickup and dropoff location IDs\n",
    "    df['PU_DO'] = df['PULocationID'] + '_' + df['DOLocationID']\n",
    "    \n",
    "    # Return the processed DataFrame\n",
    "    return df\n"
   ]
  },
  {
   "cell_type": "code",
   "execution_count": 30,
   "metadata": {},
   "outputs": [],
   "source": [
    "# Preprocess the training data\n",
    "df_train = data_preprocess(filename_jul_train).head(1000)\n",
    "\n",
    "# Preprocess the validation data\n",
    "df_validate = data_preprocess(filename_aug_validate).head(1000)\n",
    "\n",
    "# Preprocess the test data\n",
    "df_test = data_preprocess(filename_sept_test).head(100)\n",
    "\n",
    "# Print the lengths of the training and validation DataFrames\n",
    "len(df_train), len(df_validate)\n",
    "\n",
    "# Load your data (X_train, y_train, X_val, y_val)\n",
    "# Define categorical and numerical features : independant features\n",
    "categorical = ['PU_DO']\n",
    "numerical = ['trip_distance']\n",
    "\n",
    "# Initialize a DictVectorizer\n",
    "dv = DictVectorizer()\n",
    "\n",
    "# Convert training data to a dictionary of records and then transform it into a sparse matrix\n",
    "train_dicts = df_train[categorical + numerical].to_dict(orient='records')\n",
    "X_train = dv.fit_transform(train_dicts)\n",
    "\n",
    "# Convert validation data to a dictionary of records and then transform it into a sparse matrix\n",
    "val_dicts = df_validate[categorical + numerical].to_dict(orient='records')\n",
    "X_val = dv.transform(val_dicts)\n",
    "\n",
    "# Convert test data to a dictionary of records and then transform it into a sparse matrix\n",
    "test_dicts = df_test[categorical + numerical].to_dict(orient='records')\n",
    "X_test = dv.transform(test_dicts)\n",
    "\n",
    "#dependant feature/ target variable\n",
    "\n",
    "target = 'duration'\n",
    "\n",
    "y_train = df_train[target].values\n",
    "y_val = df_validate[target].values\n",
    "y_test = df_test[target].values"
   ]
  },
  {
   "cell_type": "code",
   "execution_count": 32,
   "metadata": {},
   "outputs": [
    {
     "data": {
      "text/html": [
       "<div>\n",
       "<style scoped>\n",
       "    .dataframe tbody tr th:only-of-type {\n",
       "        vertical-align: middle;\n",
       "    }\n",
       "\n",
       "    .dataframe tbody tr th {\n",
       "        vertical-align: top;\n",
       "    }\n",
       "\n",
       "    .dataframe thead th {\n",
       "        text-align: right;\n",
       "    }\n",
       "</style>\n",
       "<table border=\"1\" class=\"dataframe\">\n",
       "  <thead>\n",
       "    <tr style=\"text-align: right;\">\n",
       "      <th></th>\n",
       "      <th>PU_DO</th>\n",
       "      <th>trip_distance</th>\n",
       "      <th>duration</th>\n",
       "    </tr>\n",
       "  </thead>\n",
       "  <tbody>\n",
       "    <tr>\n",
       "      <th>0</th>\n",
       "      <td>140_263</td>\n",
       "      <td>1.80</td>\n",
       "      <td>10.266667</td>\n",
       "    </tr>\n",
       "    <tr>\n",
       "      <th>1</th>\n",
       "      <td>163_163</td>\n",
       "      <td>2.31</td>\n",
       "      <td>20.316667</td>\n",
       "    </tr>\n",
       "    <tr>\n",
       "      <th>2</th>\n",
       "      <td>142_262</td>\n",
       "      <td>2.36</td>\n",
       "      <td>10.400000</td>\n",
       "    </tr>\n",
       "    <tr>\n",
       "      <th>3</th>\n",
       "      <td>68_24</td>\n",
       "      <td>4.36</td>\n",
       "      <td>14.950000</td>\n",
       "    </tr>\n",
       "    <tr>\n",
       "      <th>4</th>\n",
       "      <td>161_107</td>\n",
       "      <td>1.60</td>\n",
       "      <td>9.533333</td>\n",
       "    </tr>\n",
       "    <tr>\n",
       "      <th>...</th>\n",
       "      <td>...</td>\n",
       "      <td>...</td>\n",
       "      <td>...</td>\n",
       "    </tr>\n",
       "    <tr>\n",
       "      <th>1015</th>\n",
       "      <td>100_168</td>\n",
       "      <td>7.33</td>\n",
       "      <td>33.333333</td>\n",
       "    </tr>\n",
       "    <tr>\n",
       "      <th>1016</th>\n",
       "      <td>264_264</td>\n",
       "      <td>1.63</td>\n",
       "      <td>7.266667</td>\n",
       "    </tr>\n",
       "    <tr>\n",
       "      <th>1017</th>\n",
       "      <td>264_264</td>\n",
       "      <td>1.64</td>\n",
       "      <td>15.266667</td>\n",
       "    </tr>\n",
       "    <tr>\n",
       "      <th>1018</th>\n",
       "      <td>264_264</td>\n",
       "      <td>11.72</td>\n",
       "      <td>26.083333</td>\n",
       "    </tr>\n",
       "    <tr>\n",
       "      <th>1019</th>\n",
       "      <td>186_234</td>\n",
       "      <td>1.01</td>\n",
       "      <td>6.083333</td>\n",
       "    </tr>\n",
       "  </tbody>\n",
       "</table>\n",
       "<p>1000 rows × 3 columns</p>\n",
       "</div>"
      ],
      "text/plain": [
       "        PU_DO  trip_distance   duration\n",
       "0     140_263           1.80  10.266667\n",
       "1     163_163           2.31  20.316667\n",
       "2     142_262           2.36  10.400000\n",
       "3       68_24           4.36  14.950000\n",
       "4     161_107           1.60   9.533333\n",
       "...       ...            ...        ...\n",
       "1015  100_168           7.33  33.333333\n",
       "1016  264_264           1.63   7.266667\n",
       "1017  264_264           1.64  15.266667\n",
       "1018  264_264          11.72  26.083333\n",
       "1019  186_234           1.01   6.083333\n",
       "\n",
       "[1000 rows x 3 columns]"
      ]
     },
     "execution_count": 32,
     "metadata": {},
     "output_type": "execute_result"
    }
   ],
   "source": [
    "target = ['duration']\n",
    "df_train[categorical + numerical + target]"
   ]
  },
  {
   "cell_type": "code",
   "execution_count": 19,
   "metadata": {},
   "outputs": [],
   "source": [
    "# Create ExtraTreesRegressor model\n",
    "et_model = ExtraTreesRegressor(n_estimators=100, random_state=42)\n",
    "\n",
    "# Fit the model\n",
    "et_model.fit(X_train, y_train)\n",
    "\n",
    "# Predict on validation set\n",
    "y_pred = et_model.predict(X_val)\n",
    "\n",
    "# Calculate RMSE\n",
    "rmse = mean_squared_error(y_val, y_pred, squared=False)\n"
   ]
  },
  {
   "cell_type": "code",
   "execution_count": 20,
   "metadata": {},
   "outputs": [
    {
     "name": "stdout",
     "output_type": "stream",
     "text": [
      "Training sucessfully completed\n"
     ]
    }
   ],
   "source": [
    "# Log model and parameters in MLflow\n",
    "with mlflow.start_run():\n",
    "    mlflow.set_tag(\"model\", \"ExtraTreesRegressor\")\n",
    "    mlflow.log_params({'n_estimators': 100, 'random_state': 42})  \n",
    "    # Add other hyperparameters as needed\n",
    "    mlflow.log_metric(\"rmse\", rmse)\n",
    "\n",
    "\n",
    "    # Save the trained model as a pickle file\n",
    "    #model_filepath = \"extra_trees_model.pkl\"\n",
    "    with open(f\"{model_output_filepath}/extra_trees_model_v1.pkl\", \"wb\") as f:\n",
    "        pickle.dump((dv,et_model), f)\n",
    "\n",
    "    # Register the model in MLflow\n",
    "    mlflow.sklearn.log_model(et_model, \"et_model\")\n",
    "    mlflow.log_artifact(f\"{model_output_filepath}/extra_trees_model.pkl\")\n",
    "    \n",
    "    print(\"Training sucessfully completed\")"
   ]
  },
  {
   "cell_type": "code",
   "execution_count": 25,
   "metadata": {},
   "outputs": [],
   "source": [
    "model_path = '/Users/shreyajaiswal/Library/CloudStorage/OneDrive-NortheasternUniversity/Projects/MLOps-NYC-Taxi/experiment_tracking/models/extra_trees_model_v1.pkl'\n"
   ]
  },
  {
   "cell_type": "code",
   "execution_count": 26,
   "metadata": {},
   "outputs": [],
   "source": [
    "with open(f'{model_path}', 'rb') as f_out:\n",
    "    dv,model = pickle.load(f_out)"
   ]
  },
  {
   "cell_type": "code",
   "execution_count": 24,
   "metadata": {},
   "outputs": [
    {
     "data": {
      "text/html": [
       "<style>#sk-container-id-2 {color: black;}#sk-container-id-2 pre{padding: 0;}#sk-container-id-2 div.sk-toggleable {background-color: white;}#sk-container-id-2 label.sk-toggleable__label {cursor: pointer;display: block;width: 100%;margin-bottom: 0;padding: 0.3em;box-sizing: border-box;text-align: center;}#sk-container-id-2 label.sk-toggleable__label-arrow:before {content: \"▸\";float: left;margin-right: 0.25em;color: #696969;}#sk-container-id-2 label.sk-toggleable__label-arrow:hover:before {color: black;}#sk-container-id-2 div.sk-estimator:hover label.sk-toggleable__label-arrow:before {color: black;}#sk-container-id-2 div.sk-toggleable__content {max-height: 0;max-width: 0;overflow: hidden;text-align: left;background-color: #f0f8ff;}#sk-container-id-2 div.sk-toggleable__content pre {margin: 0.2em;color: black;border-radius: 0.25em;background-color: #f0f8ff;}#sk-container-id-2 input.sk-toggleable__control:checked~div.sk-toggleable__content {max-height: 200px;max-width: 100%;overflow: auto;}#sk-container-id-2 input.sk-toggleable__control:checked~label.sk-toggleable__label-arrow:before {content: \"▾\";}#sk-container-id-2 div.sk-estimator input.sk-toggleable__control:checked~label.sk-toggleable__label {background-color: #d4ebff;}#sk-container-id-2 div.sk-label input.sk-toggleable__control:checked~label.sk-toggleable__label {background-color: #d4ebff;}#sk-container-id-2 input.sk-hidden--visually {border: 0;clip: rect(1px 1px 1px 1px);clip: rect(1px, 1px, 1px, 1px);height: 1px;margin: -1px;overflow: hidden;padding: 0;position: absolute;width: 1px;}#sk-container-id-2 div.sk-estimator {font-family: monospace;background-color: #f0f8ff;border: 1px dotted black;border-radius: 0.25em;box-sizing: border-box;margin-bottom: 0.5em;}#sk-container-id-2 div.sk-estimator:hover {background-color: #d4ebff;}#sk-container-id-2 div.sk-parallel-item::after {content: \"\";width: 100%;border-bottom: 1px solid gray;flex-grow: 1;}#sk-container-id-2 div.sk-label:hover label.sk-toggleable__label {background-color: #d4ebff;}#sk-container-id-2 div.sk-serial::before {content: \"\";position: absolute;border-left: 1px solid gray;box-sizing: border-box;top: 0;bottom: 0;left: 50%;z-index: 0;}#sk-container-id-2 div.sk-serial {display: flex;flex-direction: column;align-items: center;background-color: white;padding-right: 0.2em;padding-left: 0.2em;position: relative;}#sk-container-id-2 div.sk-item {position: relative;z-index: 1;}#sk-container-id-2 div.sk-parallel {display: flex;align-items: stretch;justify-content: center;background-color: white;position: relative;}#sk-container-id-2 div.sk-item::before, #sk-container-id-2 div.sk-parallel-item::before {content: \"\";position: absolute;border-left: 1px solid gray;box-sizing: border-box;top: 0;bottom: 0;left: 50%;z-index: -1;}#sk-container-id-2 div.sk-parallel-item {display: flex;flex-direction: column;z-index: 1;position: relative;background-color: white;}#sk-container-id-2 div.sk-parallel-item:first-child::after {align-self: flex-end;width: 50%;}#sk-container-id-2 div.sk-parallel-item:last-child::after {align-self: flex-start;width: 50%;}#sk-container-id-2 div.sk-parallel-item:only-child::after {width: 0;}#sk-container-id-2 div.sk-dashed-wrapped {border: 1px dashed gray;margin: 0 0.4em 0.5em 0.4em;box-sizing: border-box;padding-bottom: 0.4em;background-color: white;}#sk-container-id-2 div.sk-label label {font-family: monospace;font-weight: bold;display: inline-block;line-height: 1.2em;}#sk-container-id-2 div.sk-label-container {text-align: center;}#sk-container-id-2 div.sk-container {/* jupyter's `normalize.less` sets `[hidden] { display: none; }` but bootstrap.min.css set `[hidden] { display: none !important; }` so we also need the `!important` here to be able to override the default hidden behavior on the sphinx rendered scikit-learn.org. See: https://github.com/scikit-learn/scikit-learn/issues/21755 */display: inline-block !important;position: relative;}#sk-container-id-2 div.sk-text-repr-fallback {display: none;}</style><div id=\"sk-container-id-2\" class=\"sk-top-container\"><div class=\"sk-text-repr-fallback\"><pre>ExtraTreesRegressor(random_state=42)</pre><b>In a Jupyter environment, please rerun this cell to show the HTML representation or trust the notebook. <br />On GitHub, the HTML representation is unable to render, please try loading this page with nbviewer.org.</b></div><div class=\"sk-container\" hidden><div class=\"sk-item\"><div class=\"sk-estimator sk-toggleable\"><input class=\"sk-toggleable__control sk-hidden--visually\" id=\"sk-estimator-id-2\" type=\"checkbox\" checked><label for=\"sk-estimator-id-2\" class=\"sk-toggleable__label sk-toggleable__label-arrow\">ExtraTreesRegressor</label><div class=\"sk-toggleable__content\"><pre>ExtraTreesRegressor(random_state=42)</pre></div></div></div></div></div>"
      ],
      "text/plain": [
       "ExtraTreesRegressor(random_state=42)"
      ]
     },
     "execution_count": 24,
     "metadata": {},
     "output_type": "execute_result"
    }
   ],
   "source": [
    "model"
   ]
  },
  {
   "cell_type": "code",
   "execution_count": 52,
   "metadata": {},
   "outputs": [
    {
     "name": "stdout",
     "output_type": "stream",
     "text": [
      "VendorID                 100\n",
      "tpep_pickup_datetime     100\n",
      "tpep_dropoff_datetime    100\n",
      "passenger_count          100\n",
      "trip_distance            100\n",
      "RatecodeID               100\n",
      "store_and_fwd_flag       100\n",
      "PULocationID             100\n",
      "DOLocationID             100\n",
      "payment_type             100\n",
      "fare_amount              100\n",
      "extra                    100\n",
      "mta_tax                  100\n",
      "tip_amount               100\n",
      "tolls_amount             100\n",
      "improvement_surcharge    100\n",
      "total_amount             100\n",
      "congestion_surcharge     100\n",
      "Airport_fee              100\n",
      "duration                 100\n",
      "PU_DO                    100\n",
      "dtype: int64\n"
     ]
    }
   ],
   "source": [
    "print(df_test.count())"
   ]
  },
  {
   "cell_type": "code",
   "execution_count": 53,
   "metadata": {},
   "outputs": [],
   "source": [
    "# Load the trained model from the pickle file\n",
    "with open(f\"{model_output_filepath}/extra_trees_model.pkl\", \"rb\") as f:\n",
    "    loaded_model = pickle.load(f)\n"
   ]
  },
  {
   "cell_type": "code",
   "execution_count": 54,
   "metadata": {},
   "outputs": [],
   "source": [
    "# Predict on the test set\n",
    "y_test_pred = loaded_model.predict(X_test)"
   ]
  },
  {
   "cell_type": "code",
   "execution_count": 55,
   "metadata": {},
   "outputs": [
    {
     "name": "stdout",
     "output_type": "stream",
     "text": [
      "[ 4.81016667  9.8025      5.60216667 12.67816667 19.26716667 26.50233333\n",
      " 23.81616667 16.04633333 11.01166667  5.721      29.1455      7.02366667\n",
      " 15.10125    10.83966667  5.48666667 24.45716667 10.43733333 13.01566667\n",
      " 11.65816667 15.98916667  5.29233333  6.60466667  6.74116667  6.196\n",
      " 15.50116667  9.00533333 16.9425      6.50183333  8.84233333  8.34766667\n",
      " 11.936       6.58633333  4.478       4.59533333  4.00322222  8.811\n",
      " 12.93533333  4.56033333  5.98666667 16.62366667 36.652       6.52433333\n",
      "  5.59566667  6.77466667 14.9685      4.62877778 15.81216667  8.631\n",
      " 24.644      16.9545      5.59566667 11.29333333 19.84516667 11.08933333\n",
      "  5.1375     15.81216667 14.58316667  9.62216667  2.28383333  5.28616667\n",
      "  9.62216667 10.06583333  6.64866667  5.59566667 25.10066667  3.53333333\n",
      " 11.15266667  4.81016667  4.81016667 13.02866667  5.76066667 11.4265\n",
      " 37.179      11.5945      4.851      15.17333333 11.07583333  5.132\n",
      " 14.85633333  5.18466667  6.64866667  4.59388889 12.0555      5.71933333\n",
      "  5.109       5.44133333  6.83683333  6.81766667  2.92516667  6.4\n",
      " 16.9545      5.489       1.23283333  4.851       6.548       5.59566667\n",
      "  6.74116667 16.04633333  5.02783333  5.59566667]\n"
     ]
    }
   ],
   "source": [
    "print(y_test_pred)"
   ]
  },
  {
   "cell_type": "code",
   "execution_count": 57,
   "metadata": {},
   "outputs": [
    {
     "name": "stdout",
     "output_type": "stream",
     "text": [
      "6.056218767811148\n"
     ]
    }
   ],
   "source": [
    "# Calculate RMSE for the test set\n",
    "rmse_test = mean_squared_error(y_test, y_test_pred, squared=False)\n",
    "print(rmse_test)"
   ]
  },
  {
   "cell_type": "code",
   "execution_count": null,
   "metadata": {},
   "outputs": [],
   "source": []
  }
 ],
 "metadata": {
  "kernelspec": {
   "display_name": "Python 3 (ipykernel)",
   "language": "python",
   "name": "python3"
  },
  "language_info": {
   "codemirror_mode": {
    "name": "ipython",
    "version": 3
   },
   "file_extension": ".py",
   "mimetype": "text/x-python",
   "name": "python",
   "nbconvert_exporter": "python",
   "pygments_lexer": "ipython3",
   "version": "3.8.18"
  }
 },
 "nbformat": 4,
 "nbformat_minor": 5
}
